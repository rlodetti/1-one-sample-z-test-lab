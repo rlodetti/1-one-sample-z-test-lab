{
 "cells": [
  {
   "cell_type": "markdown",
   "metadata": {},
   "source": [
    "# One-Sample z-test - Lab\n",
    "\n",
    "## Introduction\n",
    "In this lab, you'll perform a few quick tests to help you better understand how hypothesis testing works.\n",
    "\n",
    "## Objectives\n",
    "You will be able to:\n",
    "\n",
    "* Explain use cases for a 1-sample z-test\n",
    "* Set up null and alternative hypotheses\n",
    "* Use the z-table and scipy methods to acquire the p value for a given z-score\n",
    "* Calculate and interpret p-value for significance of results\n",
    "\n",
    "## Exercise 1\n",
    "A fast-food chain claims that the mean time to order food at their restaurants is 60 seconds, with a standard deviation of 30 seconds. You decide to put this claim to the test and go to one of the restaurants to observe actual waiting times. You take a sample of 36 customers and find that the mean order time was 75 seconds. Does this finding provide enough evidence to contradict the fast food chain's claim of fast service?\n",
    "\n",
    "Follow the 5 steps shown in previous lesson and use $\\alpha$ = 0.05. "
   ]
  },
  {
   "cell_type": "code",
   "execution_count": 2,
   "metadata": {
    "ExecuteTime": {
     "end_time": "2023-04-28T10:02:53.136416Z",
     "start_time": "2023-04-28T10:02:51.712383Z"
    }
   },
   "outputs": [],
   "source": [
    "import scipy.stats as stats\n",
    "from math import sqrt\n",
    "import numpy as np\n",
    "import matplotlib.pyplot as plt\n",
    "%matplotlib inline"
   ]
  },
  {
   "cell_type": "code",
   "execution_count": null,
   "metadata": {},
   "outputs": [],
   "source": [
    "# Step 1: State your null and alternative hypotheses\n",
    "\"\"\"\n",
    "H_0: mean time to order food at their restaurants is 60 seconds\n",
    "\n",
    "H_a: mean > 60 seconds\n",
    "\"\"\"\n"
   ]
  },
  {
   "cell_type": "code",
   "execution_count": null,
   "metadata": {},
   "outputs": [],
   "source": [
    "# Step 2: Specify a Significance Level (alpha)\n",
    "# alpha = 0.05"
   ]
  },
  {
   "cell_type": "code",
   "execution_count": 3,
   "metadata": {
    "ExecuteTime": {
     "end_time": "2023-04-28T10:02:54.689426Z",
     "start_time": "2023-04-28T10:02:54.679303Z"
    }
   },
   "outputs": [
    {
     "data": {
      "text/plain": [
       "3.0"
      ]
     },
     "execution_count": 3,
     "metadata": {},
     "output_type": "execute_result"
    }
   ],
   "source": [
    "# Step 3: Calculate the test statistic\n",
    "x_bar = 75 # sample mean \n",
    "n = 36 # number of students\n",
    "sigma = 30 # sd of population\n",
    "mu = 60 # Population mean \n",
    "\n",
    "z = (x_bar - mu)/(sigma/sqrt(n))\n",
    "z"
   ]
  },
  {
   "cell_type": "code",
   "execution_count": 5,
   "metadata": {
    "ExecuteTime": {
     "end_time": "2023-04-28T10:03:47.763796Z",
     "start_time": "2023-04-28T10:03:47.757714Z"
    }
   },
   "outputs": [
    {
     "data": {
      "text/plain": [
       "0.0013498980316301035"
      ]
     },
     "execution_count": 5,
     "metadata": {},
     "output_type": "execute_result"
    }
   ],
   "source": [
    "# Step 4: Calculate the p-value\n",
    "1 - stats.norm.cdf(z)\n"
   ]
  },
  {
   "cell_type": "code",
   "execution_count": null,
   "metadata": {},
   "outputs": [],
   "source": [
    "# Step 5: Interpret p-value\n",
    "\"\"\"\n",
    "Since the p-value is below our siginificance level, based on our\n",
    "sample we will reject the null hypotheses\n",
    "\"\"\""
   ]
  },
  {
   "cell_type": "markdown",
   "metadata": {},
   "source": [
    "## Exercise 2\n",
    "\n",
    "25 students complete a preparation program for taking the SAT test.  Here are the SAT scores from the 25 students who completed the program:\n",
    "\n",
    "``\n",
    "434 694 457 534 720 400 484 478 610 641 425 636 454 \n",
    "514 563 370 499 640 501 625 612 471 598 509 531\n",
    "``\n",
    "\n",
    "We know that the population average for SAT scores is 500 with a standard deviation of 100.\n",
    "\n",
    "Are our 25 students’ SAT scores significantly higher than the population's mean score? \n",
    "\n",
    "*Note that the SAT preparation program claims that it will increase (and not decrease) the SAT score.  So, you can conduct a one-directional test. (alpha = .05).*"
   ]
  },
  {
   "cell_type": "code",
   "execution_count": null,
   "metadata": {},
   "outputs": [],
   "source": [
    "# State your hypotheses \n",
    "# Ho:\n",
    "# Ha: "
   ]
  },
  {
   "cell_type": "code",
   "execution_count": 9,
   "metadata": {
    "ExecuteTime": {
     "end_time": "2023-04-28T10:11:04.140896Z",
     "start_time": "2023-04-28T10:11:04.132938Z"
    }
   },
   "outputs": [
    {
     "data": {
      "text/plain": [
       "(0.03593031911292577, 1.8)"
      ]
     },
     "execution_count": 9,
     "metadata": {},
     "output_type": "execute_result"
    }
   ],
   "source": [
    "# Give your solution here \n",
    "x_bar = np.array([434, 694, 457, 534, 720, 400, 484, 478, 610, 641, \n",
    "                425, 636, 454, 514, 563, 370, 499, 640, 501, 625, \n",
    "                612, 471, 598, 509, 531]).mean() # sample mean \n",
    "n = 25 # number of students\n",
    "sigma = 100 # sd of population\n",
    "mu = 500 # Population mean \n",
    "z = (x_bar - mu)/(sigma/sqrt(n))\n",
    "p = 1 - stats.norm.cdf(z)\n",
    "\n",
    "p,z\n",
    "\n",
    "# p = 0.03593031911292577, z = 1.8"
   ]
  },
  {
   "cell_type": "code",
   "execution_count": 20,
   "metadata": {},
   "outputs": [],
   "source": [
    "# Interpret the results in terms of the p-value\n",
    "\"\"\"\n",
    "Since our p-value is less than our 0.05 we can once again reject\n",
    "the null hypothesis and say that these student's scores are \n",
    "significatnly higher than average.\n",
    "\"\"\""
   ]
  },
  {
   "cell_type": "markdown",
   "metadata": {},
   "source": [
    "## Summary\n",
    "\n",
    "In this lesson, you conducted a couple of simple tests comparing sample and population means, in an attempt to reject our null hypotheses. This provides you with a strong foundation to move ahead with more advanced tests and approaches later on."
   ]
  }
 ],
 "metadata": {
  "kernelspec": {
   "display_name": "Python 3",
   "language": "python",
   "name": "python3"
  },
  "language_info": {
   "codemirror_mode": {
    "name": "ipython",
    "version": 3
   },
   "file_extension": ".py",
   "mimetype": "text/x-python",
   "name": "python",
   "nbconvert_exporter": "python",
   "pygments_lexer": "ipython3",
   "version": "3.8.5"
  },
  "toc": {
   "base_numbering": 1,
   "nav_menu": {},
   "number_sections": true,
   "sideBar": true,
   "skip_h1_title": false,
   "title_cell": "Table of Contents",
   "title_sidebar": "Contents",
   "toc_cell": false,
   "toc_position": {},
   "toc_section_display": true,
   "toc_window_display": false
  }
 },
 "nbformat": 4,
 "nbformat_minor": 2
}
